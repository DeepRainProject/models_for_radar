{
 "cells": [
  {
   "cell_type": "code",
   "execution_count": 12,
   "id": "quantitative-layout",
   "metadata": {},
   "outputs": [],
   "source": [
    "import glob\n",
    "import json\n",
    "import numpy as np\n",
    "import tensorflow as tf\n",
    "import matplotlib\n",
    "import matplotlib.pyplot as plt"
   ]
  },
  {
   "cell_type": "code",
   "execution_count": 13,
   "id": "exclusive-lindsay",
   "metadata": {},
   "outputs": [],
   "source": [
    "thresholds = [0.2, 0.5, 1, 2, 5]\n",
    "window_sizes = [4, 7, 14, 21]"
   ]
  },
  {
   "cell_type": "markdown",
   "id": "cf0e6e4d-088d-4a51-9f1d-e52cc7495f31",
   "metadata": {},
   "source": [
    "### continuous metrics"
   ]
  },
  {
   "cell_type": "code",
   "execution_count": 14,
   "id": "b6e181b5-1e45-4e18-9c0b-4c14bd51b755",
   "metadata": {},
   "outputs": [],
   "source": [
    "cli = np.load(\"/p/project/deepacf/deeprain/wittenbrink/py/sample_climatology.npy\")\n",
    "\n",
    "def leps(y1,y2,climato):\n",
    "    if len(y1.shape)==0:\n",
    "        return abs(np.sum(y1>climato) - np.sum(y2>climato))/len(climato)\n",
    "    else:\n",
    "        return np.mean([leps(y1[i],y2[i],climato) for i in range(len(y1))])"
   ]
  },
  {
   "cell_type": "code",
   "execution_count": 15,
   "id": "7e89cb8b-3a72-4e7e-9f63-89de09289403",
   "metadata": {},
   "outputs": [],
   "source": [
    "from sklearn.metrics import mean_absolute_error"
   ]
  },
  {
   "cell_type": "markdown",
   "id": "2d48962e-ace1-466e-b41f-2161b49bf3f0",
   "metadata": {},
   "source": [
    "### categorical metrics"
   ]
  },
  {
   "cell_type": "code",
   "execution_count": 16,
   "id": "eeadbf43-f5dd-4a22-b200-d073864f28a0",
   "metadata": {},
   "outputs": [],
   "source": [
    "def booleanize(array, threshold):\n",
    "    booleanized = array >= threshold\n",
    "    return booleanized.astype(int) "
   ]
  },
  {
   "cell_type": "code",
   "execution_count": 17,
   "id": "54e90938-4f1f-4c80-93d7-4e6f6a27ce5a",
   "metadata": {},
   "outputs": [],
   "source": [
    "def contingencytable(veri,perc,threshh):\n",
    "    hits=np.sum((veri>=threshh)*(perc>=threshh))\n",
    "    falsealarms=np.sum((veri<threshh)*(perc>=threshh))\n",
    "    misses=np.sum((veri>=threshh)*(perc<threshh))\n",
    "    correctnegatives=np.sum((veri<threshh)*(perc<threshh))\n",
    "    return hits, falsealarms, misses, correctnegatives\n",
    "\n",
    "def freqbias(hits,falsealarms, misses, correctnegatives):\n",
    "    return (hits+falsealarms)/(hits+misses)\n",
    "\n",
    "def ets(hits,falsealarms, misses, correctnegatives):\n",
    "    hitsrandom=(hits+misses)*(hits+falsealarms)/np.sum((hits,falsealarms, misses, correctnegatives))\n",
    "    return (hits-hitsrandom)/(hits+misses+falsealarms-hitsrandom)\n",
    "\n",
    "def lor(hits,falsealarms, misses, correctnegatives):\n",
    "    return np.log((hits*correctnegatives)/(misses*falsealarms))\n",
    "\n",
    "def pod(hits,falsealarms, misses, correctnegatives):\n",
    "    return hits/(hits+misses)\n",
    "\n",
    "def far(hits,falsealarms, misses, correctnegatives):\n",
    "    return falsealarms/(falsealarms+hits)\n",
    "\n",
    "def csi(hits,falsealarms, misses, correctnegatives):\n",
    "    return hits/(hits+falsealarms+misses)"
   ]
  },
  {
   "cell_type": "markdown",
   "id": "0d269c66-331b-401f-bc21-b3e351b7f9f9",
   "metadata": {},
   "source": [
    "## Evaluating predictions"
   ]
  },
  {
   "cell_type": "markdown",
   "id": "useful-radiation",
   "metadata": {},
   "source": [
    "### cosmo"
   ]
  },
  {
   "cell_type": "code",
   "execution_count": null,
   "id": "sustained-breakdown",
   "metadata": {},
   "outputs": [],
   "source": [
    "cosmo = np.load('/p/scratch/deepacf/deeprain/rojascampos1/data/radar_enhancement/lres/01_tst_c.npy')\n",
    "print('cosmo.shape =', cosmo.shape)\n",
    "\n",
    "tst_y_lres = np.load('/p/scratch/deepacf/deeprain/rojascampos1/data/radar_enhancement/lres/01_tst_y.npy')\n",
    "print('tst_y_lres.shape =', tst_y_lres.shape)\n",
    "\n",
    "results_cosmo = {}\n",
    "\n",
    "results_cosmo['mae'] = mean_absolute_error(tst_y_lres.flatten(), cosmo.flatten())\n",
    "results_cosmo['leps'] = leps(tst_y_lres.flatten(), cosmo.flatten(), cli)\n",
    "\n",
    "results_cosmo['freqbias'] = {}\n",
    "results_cosmo['ets'] = {}\n",
    "results_cosmo['lor'] = {}\n",
    "results_cosmo['pod'] = {}\n",
    "results_cosmo['far'] = {}\n",
    "results_cosmo['csi'] = {}\n",
    "results_cosmo['fss'] = {}\n",
    "\n",
    "for t in thresholds:\n",
    "\n",
    "    hits, falsealarms, misses, correctnegatives = contingencytable(tst_y_lres, cosmo, t)\n",
    "    results_cosmo['freqbias'][str(t)] = freqbias(hits, falsealarms, misses, correctnegatives)\n",
    "    results_cosmo['ets'][str(t)] = ets(hits, falsealarms, misses, correctnegatives)\n",
    "    results_cosmo['lor'][str(t)] = lor(hits, falsealarms, misses, correctnegatives)\n",
    "    results_cosmo['pod'][str(t)] = pod(hits, falsealarms, misses, correctnegatives)\n",
    "    results_cosmo['far'][str(t)] = far(hits, falsealarms, misses, correctnegatives)\n",
    "    results_cosmo['csi'][str(t)] = csi(hits, falsealarms, misses, correctnegatives)\n",
    "    results_cosmo['fss'][str(t)] = {}\n",
    "\n",
    "    for w in window_sizes:\n",
    "        results_cosmo['fss'][str(t)][str(w)] = fss(tst_y_lres, cosmo, t, w, False)\n",
    "\n",
    "with open('results_cosmo.json', 'w') as fp:\n",
    "    json.dump(results_cosmo, fp)"
   ]
  },
  {
   "cell_type": "markdown",
   "id": "willing-warner",
   "metadata": {},
   "source": [
    "### Baseline, UNet, Deconv1L, Deconv3L, CGans"
   ]
  },
  {
   "cell_type": "code",
   "execution_count": 19,
   "id": "e915b1fc-e0e3-4c05-afa5-0225666ad811",
   "metadata": {},
   "outputs": [],
   "source": [
    "def calcsadscores(obs,forc):\n",
    "    verif = sad( 144, 4, True, threshold )\n",
    "    if len(obs)==len(forc):\n",
    "        sads=[verif.verify(obs[i],forc[i]) for i in range(len(obs))]\n",
    "        return np.array(sads)[:,0,:]\n",
    "    else:\n",
    "        \n",
    "        sads=[verif.verify(obs[i],*[forc[j][i] for j in range(len(forc))]) for i in range(len(obs))]\n",
    "        return np.array(sads)"
   ]
  },
  {
   "cell_type": "code",
   "execution_count": 20,
   "id": "fifteen-survival",
   "metadata": {},
   "outputs": [],
   "source": [
    "def evaluate_models(path):\n",
    "    \n",
    "    tst_x = np.load('/p/scratch/deepacf/deeprain/rojascampos1/data/radar_enhancement/hres/01_tst_x.npy')\n",
    "    tst_y = np.load('/p/scratch/deepacf/deeprain/rojascampos1/data/radar_enhancement/hres/01_tst_y.npy')\n",
    "    \n",
    "    models = sorted(glob.glob(path + 'models/*.h5'))\n",
    "    \n",
    "    all_preds = []\n",
    "    results = {}\n",
    "    \n",
    "    for idx, m in enumerate(models):\n",
    "        \n",
    "        print(m)\n",
    "        mo = tf.keras.models.load_model(m)\n",
    "        preds = mo(tst_x)\n",
    "        preds = np.squeeze(preds.numpy())\n",
    "        all_preds.append(preds)\n",
    "        \n",
    "        results_m = {}\n",
    "        \n",
    "        results_m['mae'] = mean_absolute_error(tst_y.flatten(), preds.flatten())\n",
    "        results_m['leps'] = leps(tst_y.flatten(), preds.flatten(), cli)\n",
    "        \n",
    "        results_m['freqbias'] = {}\n",
    "        results_m['ets'] = {}\n",
    "        results_m['lor'] = {}\n",
    "        results_m['pod'] = {}\n",
    "        results_m['far'] = {}\n",
    "        results_m['csi'] = {}\n",
    "        results_m['fss'] = {}\n",
    "        \n",
    "        for t in thresholds:\n",
    "            \n",
    "            hits, falsealarms, misses, correctnegatives = contingencytable(tst_y.flatten(), preds.flatten(), t)\n",
    "            results_m['freqbias'][str(t)] = freqbias(hits, falsealarms, misses, correctnegatives)\n",
    "            results_m['ets'][str(t)] = ets(hits, falsealarms, misses, correctnegatives)\n",
    "            results_m['lor'][str(t)] = lor(hits, falsealarms, misses, correctnegatives)\n",
    "            results_m['pod'][str(t)] = pod(hits, falsealarms, misses, correctnegatives)\n",
    "            results_m['far'][str(t)] = far(hits, falsealarms, misses, correctnegatives)\n",
    "            results_m['csi'][str(t)] = csi(hits, falsealarms, misses, correctnegatives)\n",
    "            results_m['fss'][str(t)] = {}\n",
    "            \n",
    "            for w in window_sizes:\n",
    "                results_m['fss'][str(t)][str(w)] = fss(tst_y, preds, t, w, False)\n",
    "        \n",
    "        results[str(idx)] = results_m\n",
    "\n",
    "    ## Save results\n",
    "    np.save(path + '/predictions.npy', np.array(all_preds))\n",
    "    with open(path + '/results.json', 'w') as fp:\n",
    "        json.dump(results, fp)"
   ]
  },
  {
   "cell_type": "code",
   "execution_count": null,
   "id": "5ce7eeac",
   "metadata": {},
   "outputs": [],
   "source": [
    "evaluate_models('/p/home/jusers/rojascampos1/juwels/MyProjects/PROJECT_deepacf/deeprain/rojascampos1/radar_enhancement/scripts/baseline/')"
   ]
  },
  {
   "cell_type": "code",
   "execution_count": null,
   "id": "5ce7eeac",
   "metadata": {},
   "outputs": [],
   "source": [
    "evaluate_models('/p/home/jusers/rojascampos1/juwels/MyProjects/PROJECT_deepacf/deeprain/rojascampos1/radar_enhancement/scripts/unet/')"
   ]
  },
  {
   "cell_type": "code",
   "execution_count": null,
   "id": "5ce7eeac",
   "metadata": {},
   "outputs": [],
   "source": [
    "evaluate_models('/p/home/jusers/rojascampos1/juwels/MyProjects/PROJECT_deepacf/deeprain/rojascampos1/radar_enhancement/scripts/deconv1l/')"
   ]
  },
  {
   "cell_type": "code",
   "execution_count": null,
   "id": "5ce7eeac",
   "metadata": {},
   "outputs": [],
   "source": [
    "evaluate_models('/p/home/jusers/rojascampos1/juwels/MyProjects/PROJECT_deepacf/deeprain/rojascampos1/radar_enhancement/scripts/deconv3l/')"
   ]
  },
  {
   "cell_type": "code",
   "execution_count": null,
   "id": "5ce7eeac",
   "metadata": {},
   "outputs": [],
   "source": [
    "evaluate_models('/p/home/jusers/rojascampos1/juwels/MyProjects/PROJECT_deepacf/deeprain/rojascampos1/radar_enhancement/scripts/cgan/')"
   ]
  }
 ],
 "metadata": {
  "kernelspec": {
   "display_name": "PyDeepLearning-1.1",
   "language": "python",
   "name": "pydeeplearning"
  },
  "language_info": {
   "codemirror_mode": {
    "name": "ipython",
    "version": 3
   },
   "file_extension": ".py",
   "mimetype": "text/x-python",
   "name": "python",
   "nbconvert_exporter": "python",
   "pygments_lexer": "ipython3",
   "version": "3.8.5"
  }
 },
 "nbformat": 4,
 "nbformat_minor": 5
}
